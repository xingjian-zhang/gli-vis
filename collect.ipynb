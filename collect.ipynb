{
 "cells": [
  {
   "cell_type": "code",
   "execution_count": null,
   "metadata": {},
   "outputs": [],
   "source": [
    "import os\n",
    "import pandas as pd\n",
    "import json\n",
    "\n",
    "from gli.task import SUPPORTED_TASK_TYPES\n",
    "tasks = !fd task datasets/ --extension json\n",
    "collect = []\n",
    "for f in tasks:\n",
    "    dataset_name = f.split(\"/\")[1]\n",
    "    with open(f, \"r\") as fp:\n",
    "        task_config = json.load(fp)\n",
    "        task_type = task_config[\"type\"]\n",
    "    collect.append((dataset_name, task_type))\n",
    "datasets = set()\n",
    "tasks = set(sorted(SUPPORTED_TASK_TYPES))\n",
    "for c in collect:\n",
    "    datasets.add(c[0])\n",
    "    tasks.add(c[1])\n",
    "\n",
    "df = pd.DataFrame(columns=list(tasks), index=sorted(list(datasets)))\n",
    "for c in collect:\n",
    "    df.loc[c[0]][c[1]] = True\n",
    "df = df.fillna(False)\n",
    "df.index.name = \"Dataset\"\n",
    "df.to_csv(\"task.csv\")"
   ]
  }
 ],
 "metadata": {
  "language_info": {
   "name": "python"
  },
  "orig_nbformat": 4
 },
 "nbformat": 4,
 "nbformat_minor": 2
}
